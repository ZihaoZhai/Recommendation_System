{
 "cells": [
  {
   "cell_type": "code",
   "execution_count": 34,
   "metadata": {},
   "outputs": [],
   "source": [
    "import psycopg2\n",
    "import collections\n",
    "import json\n",
    "from tqdm import tqdm\n",
    "import pandas as pd\n",
    "import numpy as np"
   ]
  },
  {
   "cell_type": "code",
   "execution_count": 35,
   "metadata": {},
   "outputs": [],
   "source": [
    "def connect(params):\n",
    "    conn = None\n",
    "    try:\n",
    "        print('Connecting to the PostgreSQL database...')\n",
    "        conn = psycopg2.connect(**params)\n",
    "        print('Connected...\\n')\n",
    "        cur = conn.cursor()\n",
    "        return cur\n",
    "    except (Exception, psycopg2.DatabaseError) as error:\n",
    "        print(error)"
   ]
  },
  {
   "cell_type": "code",
   "execution_count": 36,
   "metadata": {},
   "outputs": [],
   "source": [
    "with open('env.json') as f:\n",
    "    env = json.loads(f.read())"
   ]
  },
  {
   "cell_type": "code",
   "execution_count": 40,
   "metadata": {},
   "outputs": [],
   "source": [
    "conn = psycopg2.connect(**env['PostgreSqlConnectParameter'])\n",
    "cur = conn.cursor()\n",
    "sql = 'select bra_type, bra_by_function, bra_padding_level, bra_padding_style, bra_wire_style, \\\n",
    "              bra_strap, bra_wear_style, bra_neck_style, bra_closure, bra_shape, bra_seam,\\\n",
    "              bra_back_style, bra_smooth_level \\\n",
    "              from product \\\n",
    "              where bra_type is not null limit 5'\n",
    "cur.execute(sql)"
   ]
  },
  {
   "cell_type": "code",
   "execution_count": 42,
   "metadata": {},
   "outputs": [],
   "source": [
    "row = cur.fetchone()"
   ]
  },
  {
   "cell_type": "code",
   "execution_count": 49,
   "metadata": {
    "scrolled": true
   },
   "outputs": [
    {
     "data": {
      "text/plain": [
       "'Adjustable Straps'"
      ]
     },
     "execution_count": 49,
     "metadata": {},
     "output_type": "execute_result"
    }
   ],
   "source": [
    "row[5]"
   ]
  },
  {
   "cell_type": "code",
   "execution_count": null,
   "metadata": {},
   "outputs": [],
   "source": []
  },
  {
   "cell_type": "markdown",
   "metadata": {},
   "source": [
    "## price"
   ]
  },
  {
   "cell_type": "code",
   "execution_count": 24,
   "metadata": {},
   "outputs": [],
   "source": [
    "def price_range(env, cur):\n",
    "    sql = \"select price from product where category_path <> 'category/materials'\"\n",
    "    prices = []\n",
    "    cur.execute(sql)\n",
    "    row = cur.fetchone()\n",
    "    while row:\n",
    "        prices.append(float(row[0]))\n",
    "        row = cur.fetchone()\n",
    "    interval = env[\"similarityRulesParameter\"][\"price_intervals\"]\n",
    "    ratio = env[\"similarityRulesParameter\"][\"price_filterRatio\"]\n",
    "    filter_prices = [ele for ele in prices if ele >= 1 and ele < 20000]\n",
    "    l = len(filter_prices)\n",
    "    filter_prices = sorted(filter_prices)\n",
    "    rangePrice = (filter_prices[int(ratio * l)] - filter_prices[0]) / interval\n",
    "    res = []\n",
    "    for i in range(1, interval):\n",
    "        res.append(np.floor(i * rangePrice))\n",
    "    return res"
   ]
  },
  {
   "cell_type": "code",
   "execution_count": 25,
   "metadata": {},
   "outputs": [],
   "source": [
    "def add_price(price, priceInterval):\n",
    "    '''\n",
    "        input : \n",
    "            price : price of item\n",
    "            priceInterval : price range to put item in.\n",
    "        \n",
    "        return:\n",
    "            0-1 vector to desecribe where to put item.\n",
    "            \n",
    "    '''\n",
    "    L = len(priceInterval)\n",
    "    res = [0 for i in range(L)]\n",
    "    i = 0\n",
    "    while i < L:\n",
    "        if priceInterval[i] > price:\n",
    "            res[i] = 1\n",
    "            break\n",
    "        i += 1\n",
    "    if i == L:\n",
    "        res[L - 1] = 1\n",
    "    return res"
   ]
  },
  {
   "cell_type": "markdown",
   "metadata": {},
   "source": [
    "## simple_color:"
   ]
  },
  {
   "cell_type": "code",
   "execution_count": 26,
   "metadata": {},
   "outputs": [],
   "source": [
    "def fetch_simpleColors(cur):\n",
    "    colors = []\n",
    "    sql = \"select simple_color from product where category_path <> 'category/materials'\"\n",
    "    cur.execute(sql)\n",
    "    row = cur.fetchone()\n",
    "    while row:\n",
    "        colors.append(row[0])\n",
    "        row = cur.fetchone()\n",
    "    colors = list(map(lambda x : 'Mix' if x == 'Mixed Colors' else x, colors))\n",
    "    colors = list(map(lambda x : 'Mix' if x == 'Mix Colors' else x, colors))\n",
    "    colors = list(map(lambda x : 'Mix' if x == 'Mix Of Colors' else x, colors))\n",
    "    \n",
    "    return colors\n",
    "    \n",
    "    \n",
    "def simpleColor_dict(colors):\n",
    "    simpleColor_dict = {}\n",
    "    uniqId = 0\n",
    "    for color in colors:\n",
    "        if color not in simpleColor_dict.keys() and color != None:\n",
    "            simpleColor_dict[color] = uniqId\n",
    "            uniqId += 1\n",
    "    return simpleColor_dict\n",
    "    \n",
    "    \n",
    "def add_simpleColor(simpleColor, color_dict):\n",
    "    '''\n",
    "        input: \n",
    "            color : The color to transform\n",
    "            color_dict : color-number dictionary\n",
    "        \n",
    "        return:\n",
    "            encoding vector for given color.\n",
    "    '''\n",
    "    uniqKeys = list(color_dict.keys())\n",
    "    encoding_vec = [0 for _ in range(len(uniqKeys))]\n",
    "    encoding_vec[color_dict[simpleColor]] = 1\n",
    "    \n",
    "    return encoding_vec\n",
    "    "
   ]
  },
  {
   "cell_type": "markdown",
   "metadata": {},
   "source": [
    "## color:"
   ]
  },
  {
   "cell_type": "code",
   "execution_count": 27,
   "metadata": {},
   "outputs": [],
   "source": [
    "def fetch_colors(cur):\n",
    "    colors = []\n",
    "    sql = \"select color from product where category_path <> 'category/materials'\"\n",
    "    cur.execute(sql)\n",
    "    row = cur.fetchone()\n",
    "    while row:\n",
    "        colors.append(row[0].split('/')[0])\n",
    "        row = cur.fetchone()\n",
    "    \n",
    "    return colors"
   ]
  },
  {
   "cell_type": "code",
   "execution_count": 28,
   "metadata": {},
   "outputs": [],
   "source": [
    "def add_brightness(color):\n",
    "    '''\n",
    "        Add brightness feature to the item\n",
    "        input :\n",
    "            color : color of item\n",
    "        output:\n",
    "            brightness encoding category it belongs to.\n",
    "            'Light', 'Dark' or else.\n",
    "            [1,0,0]  [0,0,1]   [0,1,0]\n",
    "    '''\n",
    "    res = [0, 0, 0]\n",
    "    if color == None:\n",
    "        return res\n",
    "    if color.find('Light') != -1:\n",
    "        res[0] = 1\n",
    "    elif color.find('Dark') != -1:\n",
    "        res[2] = 1\n",
    "    else:\n",
    "        res[1] = 1\n",
    "        \n",
    "    return res"
   ]
  },
  {
   "cell_type": "markdown",
   "metadata": {},
   "source": [
    "## Filter brand:"
   ]
  },
  {
   "cell_type": "code",
   "execution_count": 29,
   "metadata": {},
   "outputs": [],
   "source": [
    "def add_filterBrands(filterBrand):\n",
    "    '''\n",
    "        add filter brand feature to data.\n",
    "        input:\n",
    "            filterBrand of data.\n",
    "        \n",
    "        return:\n",
    "            encoding vector for filter brand feature.\n",
    "    '''\n",
    "    brand_dict = {'Black Label': 0, \"Eve by Eve's\": 1, 'Pink Label': 2}\n",
    "    res = [0, 0, 0]\n",
    "    res[brand_dict[filterBrand]] = 1\n",
    "    return res"
   ]
  },
  {
   "cell_type": "markdown",
   "metadata": {},
   "source": [
    "## Filter Style"
   ]
  },
  {
   "cell_type": "code",
   "execution_count": 30,
   "metadata": {},
   "outputs": [],
   "source": [
    "def fetch_filterStyle(cur):\n",
    "    filter_style = {}\n",
    "    uniqId = 0\n",
    "    sql = \"select distinct filterstyle from product where category_path <> 'category/materials' or category_path is null\"\n",
    "    cur.execute(sql)\n",
    "    row = cur.fetchone()\n",
    "    while row:\n",
    "        if row[0] is None or len(row[0]) == 0:\n",
    "            if 'None' not in filter_style.keys():\n",
    "                filter_style['None'] = uniqId\n",
    "                uniqId += 1\n",
    "        else:\n",
    "            styles = row[0].split(',')\n",
    "            styles = [x for s in styles for x in s.split('&')]\n",
    "            for style in styles:\n",
    "                if style.strip() not in filter_style.keys():\n",
    "                    filter_style[style.strip()] = uniqId\n",
    "                    uniqId += 1\n",
    "        row = cur.fetchone()\n",
    "    return filter_style"
   ]
  },
  {
   "cell_type": "code",
   "execution_count": 31,
   "metadata": {},
   "outputs": [],
   "source": [
    "def add_filterStyle(filterStyle, style_dict):\n",
    "    res = [0 for _ in range(len(style_dict))]\n",
    "    styles = filterStyle.split(',')\n",
    "    styles = [x for s in styles for x in s.split('&')]\n",
    "    for style in styles:\n",
    "        if style.strip() in style_dict.keys():\n",
    "            res[style_dict[style.strip()]] = 1\n",
    "        \n",
    "    return res"
   ]
  },
  {
   "cell_type": "code",
   "execution_count": 32,
   "metadata": {},
   "outputs": [],
   "source": [
    "from similarityRule import get_similarity_dict\n"
   ]
  },
  {
   "cell_type": "code",
   "execution_count": 33,
   "metadata": {},
   "outputs": [
    {
     "name": "stdout",
     "output_type": "stream",
     "text": [
      "Connecting to the PostgreSQL database...\n",
      "Connected...\n",
      "\n"
     ]
    },
    {
     "name": "stderr",
     "output_type": "stream",
     "text": [
      "IOPub data rate exceeded.\n",
      "The notebook server will temporarily stop sending output\n",
      "to the client in order to avoid crashing it.\n",
      "To change this limit, set the config variable\n",
      "`--NotebookApp.iopub_data_rate_limit`.\n",
      "\n",
      "Current values:\n",
      "NotebookApp.iopub_data_rate_limit=1000000.0 (bytes/sec)\n",
      "NotebookApp.rate_limit_window=3.0 (secs)\n",
      "\n"
     ]
    },
    {
     "name": "stdout",
     "output_type": "stream",
     "text": [
      "{'Gray': 6, 'Dark Green': 24, 'Green': 8, 'Orange': 15, 'Magenta': 20, 'Coral': 25, 'Pattern': 4, 'Silver': 17, 'Yellow': 9, 'Black': 5, 'Ivory': 7, 'Blue': 2, 'Dark Blue': 21, 'Peach': 19, 'Purple': 14, 'White': 3, 'Brown': 12, 'Red': 10, 'Nude': 13, 'Gold': 11, 'Animal Print': 16, 'Violet': 27, 'Pink': 1, 'Grey': 18, 'Ebony': 23, 'Taupe': 26, 'Mix': 0, 'Sheer': 22}\n",
      "Connecting to the PostgreSQL database...\n",
      "Connected...\n",
      "\n"
     ]
    },
    {
     "ename": "KeyError",
     "evalue": "'Mix Colors'",
     "output_type": "error",
     "traceback": [
      "\u001b[0;31m---------------------------------------------------------------------------\u001b[0m",
      "\u001b[0;31mKeyError\u001b[0m                                  Traceback (most recent call last)",
      "\u001b[0;32m<ipython-input-33-c41468d5b06f>\u001b[0m in \u001b[0;36m<module>\u001b[0;34m()\u001b[0m\n\u001b[0;32m----> 1\u001b[0;31m \u001b[0mres\u001b[0m \u001b[0;34m=\u001b[0m \u001b[0mget_similarity_dict\u001b[0m\u001b[0;34m(\u001b[0m\u001b[0menv\u001b[0m\u001b[0;34m)\u001b[0m\u001b[0;34m\u001b[0m\u001b[0m\n\u001b[0m",
      "\u001b[0;32m~/Documents/evebyeves/Recommendation_System/similarityRule.py\u001b[0m in \u001b[0;36mget_similarity_dict\u001b[0;34m(env)\u001b[0m\n",
      "\u001b[0;32m~/Documents/evebyeves/Recommendation_System/similarityRule.py\u001b[0m in \u001b[0;36m__init__\u001b[0;34m(self, env, price, color, simple_color, brand, filterStyle, sku, priceInterval, simple_colors, color_dict, style_dict)\u001b[0m\n",
      "\u001b[0;32m~/Documents/evebyeves/Recommendation_System/similarityRule.py\u001b[0m in \u001b[0;36madd_simpleColor\u001b[0;34m(simpleColor, color_dict)\u001b[0m\n\u001b[1;32m     96\u001b[0m         \u001b[0;32mif\u001b[0m \u001b[0menv\u001b[0m\u001b[0;34m[\u001b[0m\u001b[0;34m'similarityRulesParameter'\u001b[0m\u001b[0;34m]\u001b[0m\u001b[0;34m[\u001b[0m\u001b[0;34m'useBrand'\u001b[0m\u001b[0;34m]\u001b[0m\u001b[0;34m:\u001b[0m\u001b[0;34m\u001b[0m\u001b[0m\n\u001b[1;32m     97\u001b[0m             \u001b[0mself\u001b[0m\u001b[0;34m.\u001b[0m\u001b[0mbrand_vector\u001b[0m \u001b[0;34m=\u001b[0m \u001b[0madd_filterBrands\u001b[0m\u001b[0;34m(\u001b[0m\u001b[0mbrand\u001b[0m\u001b[0;34m)\u001b[0m\u001b[0;34m\u001b[0m\u001b[0m\n\u001b[0;32m---> 98\u001b[0;31m \u001b[0;34m\u001b[0m\u001b[0m\n\u001b[0m\u001b[1;32m     99\u001b[0m         \u001b[0;32mif\u001b[0m \u001b[0menv\u001b[0m\u001b[0;34m[\u001b[0m\u001b[0;34m'similarityRulesParameter'\u001b[0m\u001b[0;34m]\u001b[0m\u001b[0;34m[\u001b[0m\u001b[0;34m'useFilterStyle'\u001b[0m\u001b[0;34m]\u001b[0m\u001b[0;34m:\u001b[0m\u001b[0;34m\u001b[0m\u001b[0m\n\u001b[1;32m    100\u001b[0m             \u001b[0mself\u001b[0m\u001b[0;34m.\u001b[0m\u001b[0mstyle_vector\u001b[0m \u001b[0;34m=\u001b[0m \u001b[0madd_filterStyle\u001b[0m\u001b[0;34m(\u001b[0m\u001b[0mfilterStyle\u001b[0m\u001b[0;34m,\u001b[0m \u001b[0mstyle_dict\u001b[0m\u001b[0;34m)\u001b[0m\u001b[0;34m\u001b[0m\u001b[0m\n",
      "\u001b[0;31mKeyError\u001b[0m: 'Mix Colors'"
     ]
    }
   ],
   "source": [
    "res = get_similarity_dict(env)"
   ]
  },
  {
   "cell_type": "code",
   "execution_count": 20,
   "metadata": {},
   "outputs": [
    {
     "data": {
      "text/plain": [
       "{}"
      ]
     },
     "execution_count": 20,
     "metadata": {},
     "output_type": "execute_result"
    }
   ],
   "source": [
    "res"
   ]
  },
  {
   "cell_type": "code",
   "execution_count": null,
   "metadata": {},
   "outputs": [],
   "source": []
  },
  {
   "cell_type": "markdown",
   "metadata": {},
   "source": [
    "## combo features(price + color + brightness + brand + style)"
   ]
  },
  {
   "cell_type": "code",
   "execution_count": null,
   "metadata": {},
   "outputs": [],
   "source": [
    "sql = \"select price, color, simple_color, filterbrand, filterstyle from product \\\n",
    "       where category_path <> 'category/materials' or category_path is null\"\n",
    "cur.execute(sql)\n",
    "row = cur.fetchone()\n",
    "\n",
    "priceInterval = price_range(env, cur)\n",
    "simple_colors = fetch_simpleColors(cur)\n",
    "color_dict = simpleColor_dict(simple_colors)\n",
    "style_dict = fetch_filterStyle(cur)\n",
    "\n",
    "while row:\n",
    "    price = float(row[0])\n",
    "    color = row[1]\n",
    "    simple_color = row[2]\n",
    "    brand = row[3]\n",
    "    filterStyle = row[4]\n",
    "    \n",
    "    price_vector = add_price(price, priceInterval)\n",
    "    simpleColor_vector = add_simpleColor(simple_color, color_dict)\n",
    "    brightness_vector = add_brightness(color)\n",
    "    brand_vector = add_filterBrands(brand)\n",
    "    style_vector = add_filterStyle(filterStyle, style_dict)\n",
    "    \n",
    "    \"\"\"print('price_vector : ', price_vector)\n",
    "    print('price : ', price)\n",
    "    print('simpleColor_vector : ', simpleColor_vector)\n",
    "    print('simple_color : ', simple_color)\n",
    "    print('brightness_vector : ', brightness_vector)\n",
    "    print('color : ', color)\n",
    "    print('brand_vector : ', brand_vector)\n",
    "    print('brand : ', brand)\n",
    "    print('style_vector : ', style_vector)\n",
    "    print('filterStyle : ', filterStyle)\"\"\"\n",
    "    \n",
    "    row = cur.fetchone()\n",
    "    \n",
    "    \n",
    "\n",
    "\n"
   ]
  },
  {
   "cell_type": "code",
   "execution_count": null,
   "metadata": {},
   "outputs": [],
   "source": [
    "class Item :\n",
    "    def __init__(self, env, price, color, simple_color, brand, filterStyle):\n",
    "        self.price = price\n",
    "        self.color = color\n",
    "        self.simple_color = simple_color\n",
    "        self.brand = brand\n",
    "        self.filterStyle = filterStyle\n",
    "        if env['similarityRulesParameter']['usePrice']:\n",
    "            priceInterval = price_range(env, prices)\n",
    "            self.price_vector = add_price(price, priceInterval)\n",
    "        \n",
    "        if env['similarityRulesParameter']['useBrightness']:\n",
    "            self.brightness_vector = add_brightness(color)\n",
    "        \n",
    "        if env['similarityRulesParameter']['useSimpleColor']:\n",
    "            color_dict = simpleColor_dict(simple_color)\n",
    "            self.color_vector =  add_simpleColor(simple_color, color_dict)\n",
    "        \n",
    "        if env['similarityRulesParameter']['useBrand']:\n",
    "            self.brand_vector = add_filterBrands(brand)\n",
    "        \n",
    "        if env['similarityRulesParameter']['useFilterStyle']:\n",
    "            style_dict = fetch_filterStyle(cur)\n",
    "            self.style_vector = add_filterStyle(filterStyle, style_dict)\n",
    "    \n",
    "    def Jacard_similarity(self, vec1, vec2):\n",
    "        if vec1 is None or vec2 is None or len(vec1) != len(vec2):\n",
    "            return 0\n",
    "        return float(sum([i for i in range(len(vec1)) if vec1[i] == vec2[i] and vec1[1] == 1])) / \\\n",
    "               sum([i for i in range(len(vec1)) if vec1[i] == 1 or vec2[1] == 1])\n",
    "    \n",
    "    def Cosint_similarity(self, vec1, vec2):\n",
    "        #todo\n",
    "        pass\n",
    "    \n",
    "    def calculate_similarity(self, vec1, vec2):\n",
    "        #todo\n",
    "        pass\n",
    "        \n",
    "    \n",
    "    def price_similarity(self, item):\n",
    "        return self.calculate_similarity(self.price_vector, item.price_vector)\n",
    "    \n",
    "    def color_similarity(self, item):\n",
    "        return self.calculate_similarity(self.color_vector, item.color_vector)\n",
    "    \n",
    "    def brightness_similarity(self, item):\n",
    "        return self.calculate_similarity(self.brightness_vector, item.brightness_vector)\n",
    "    \n",
    "    def brand_similarity(self, item):\n",
    "        return self.calculate_similarity(self.brand_vector, item.brand_vector)\n",
    "    \n",
    "    def style_similarity(self, item):\n",
    "        return self.calculate_similarity(self.style_vector, item.style_vector)\n",
    "    \n",
    "    \n"
   ]
  },
  {
   "cell_type": "code",
   "execution_count": null,
   "metadata": {},
   "outputs": [],
   "source": [
    "item1 = Item()\n"
   ]
  },
  {
   "cell_type": "code",
   "execution_count": null,
   "metadata": {},
   "outputs": [],
   "source": []
  },
  {
   "cell_type": "code",
   "execution_count": null,
   "metadata": {},
   "outputs": [],
   "source": []
  },
  {
   "cell_type": "code",
   "execution_count": null,
   "metadata": {},
   "outputs": [],
   "source": []
  },
  {
   "cell_type": "code",
   "execution_count": null,
   "metadata": {},
   "outputs": [],
   "source": []
  },
  {
   "cell_type": "code",
   "execution_count": null,
   "metadata": {},
   "outputs": [],
   "source": []
  }
 ],
 "metadata": {
  "anaconda-cloud": {},
  "kernelspec": {
   "display_name": "py35",
   "language": "python",
   "name": "conda-root-py"
  },
  "language_info": {
   "codemirror_mode": {
    "name": "ipython",
    "version": 3
   },
   "file_extension": ".py",
   "mimetype": "text/x-python",
   "name": "python",
   "nbconvert_exporter": "python",
   "pygments_lexer": "ipython3",
   "version": "3.5.4"
  }
 },
 "nbformat": 4,
 "nbformat_minor": 2
}
