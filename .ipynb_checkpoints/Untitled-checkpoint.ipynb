{
 "cells": [
  {
   "cell_type": "code",
   "execution_count": 248,
   "metadata": {},
   "outputs": [],
   "source": [
    "import psycopg2\n",
    "import collections\n",
    "import json\n",
    "from tqdm import tqdm\n",
    "import pandas as pd\n",
    "import numpy as np"
   ]
  },
  {
   "cell_type": "code",
   "execution_count": 249,
   "metadata": {},
   "outputs": [],
   "source": [
    "def connect(params):\n",
    "    conn = None\n",
    "    try:\n",
    "        print('Connecting to the PostgreSQL database...')\n",
    "        conn = psycopg2.connect(**params)\n",
    "        print('Connected...\\n')\n",
    "        cur = conn.cursor()\n",
    "        return cur\n",
    "    except (Exception, psycopg2.DatabaseError) as error:\n",
    "        print(error)"
   ]
  },
  {
   "cell_type": "code",
   "execution_count": 339,
   "metadata": {},
   "outputs": [],
   "source": [
    "with open('env.json') as f:\n",
    "    env = json.loads(f.read())"
   ]
  },
  {
   "cell_type": "markdown",
   "metadata": {},
   "source": [
    "## price"
   ]
  },
  {
   "cell_type": "code",
   "execution_count": 251,
   "metadata": {
    "scrolled": true
   },
   "outputs": [
    {
     "name": "stdout",
     "output_type": "stream",
     "text": [
      "Connecting to the PostgreSQL database...\n",
      "Connected...\n",
      "\n"
     ]
    }
   ],
   "source": [
    "cur = connect(env['basicRulesParameter']['PostgreSqlConnectParameter'])\n",
    "sql = \"select price from product where category_path <> 'category/materials'\"\n",
    "cur.execute(sql)\n",
    "prices = []\n",
    "row = cur.fetchone()\n",
    "while row :\n",
    "    prices.append(float(row[0]))\n",
    "    row = cur.fetchone()"
   ]
  },
  {
   "cell_type": "code",
   "execution_count": 252,
   "metadata": {},
   "outputs": [],
   "source": [
    "import matplotlib.pyplot as plt"
   ]
  },
  {
   "cell_type": "code",
   "execution_count": 253,
   "metadata": {
    "scrolled": false
   },
   "outputs": [
    {
     "data": {
      "image/png": "[encoded data removed]",
      "text/plain": [
       "<Figure size 432x288 with 1 Axes>"
      ]
     },
     "metadata": {},
     "output_type": "display_data"
    }
   ],
   "source": [
    "filter_prices = sorted(filter_prices)\n",
    "plt.plot(filter_prices);"
   ]
  },
  {
   "cell_type": "code",
   "execution_count": 254,
   "metadata": {},
   "outputs": [],
   "source": [
    "def price_range(env, cur):\n",
    "    sql = \"select price from product where category_path <> 'category/materials'\"\n",
    "    prices = []\n",
    "    cur.execute(sql)\n",
    "    row = cur.fetchone()\n",
    "    while row:\n",
    "        prices.append(float(row[0]))\n",
    "        row = cur.fetchone()\n",
    "    interval = env[\"similarityRulesParameter\"][\"price_intervals\"]\n",
    "    ratio = env[\"similarityRulesParameter\"][\"price_filterRatio\"]\n",
    "    filter_prices = [ele for ele in prices if ele >= 1 and ele < 20000]\n",
    "    l = len(filter_prices)\n",
    "    filter_prices = sorted(filter_prices)\n",
    "    rangePrice = (filter_prices[int(ratio * l)] - filter_prices[0]) / interval\n",
    "    res = []\n",
    "    for i in range(1, interval):\n",
    "        res.append(np.floor(i * rangePrice))\n",
    "    return res"
   ]
  },
  {
   "cell_type": "code",
   "execution_count": 255,
   "metadata": {
    "scrolled": false
   },
   "outputs": [
    {
     "data": {
      "text/plain": [
       "[39.0,\n",
       " 78.0,\n",
       " 117.0,\n",
       " 157.0,\n",
       " 196.0,\n",
       " 235.0,\n",
       " 274.0,\n",
       " 314.0,\n",
       " 353.0,\n",
       " 392.0,\n",
       " 431.0,\n",
       " 471.0,\n",
       " 510.0,\n",
       " 549.0,\n",
       " 588.0,\n",
       " 628.0,\n",
       " 667.0,\n",
       " 706.0,\n",
       " 745.0]"
      ]
     },
     "execution_count": 255,
     "metadata": {},
     "output_type": "execute_result"
    }
   ],
   "source": [
    "priceInterval = price_range(env, prices)\n",
    "priceInterval"
   ]
  },
  {
   "cell_type": "code",
   "execution_count": 256,
   "metadata": {},
   "outputs": [],
   "source": [
    "def add_price(price, priceInterval):\n",
    "    '''\n",
    "        input : \n",
    "            price : price of item\n",
    "            priceInterval : price range to put item in.\n",
    "        \n",
    "        return:\n",
    "            0-1 vector to desecribe where to put item.\n",
    "            \n",
    "    '''\n",
    "    L = len(priceInterval)\n",
    "    res = [0 for i in range(L)]\n",
    "    i = 0\n",
    "    while i < L:\n",
    "        if priceInterval[i] > price:\n",
    "            res[i] = 1\n",
    "            break\n",
    "        i += 1\n",
    "    if i == L:\n",
    "        res[L - 1] = 1\n",
    "    return res"
   ]
  },
  {
   "cell_type": "code",
   "execution_count": 257,
   "metadata": {},
   "outputs": [
    {
     "data": {
      "text/plain": [
       "[0, 0, 0, 0, 0, 1, 0, 0, 0, 0, 0, 0, 0, 0, 0, 0, 0, 0, 0]"
      ]
     },
     "execution_count": 257,
     "metadata": {},
     "output_type": "execute_result"
    }
   ],
   "source": [
    "add_price(200, priceInterval)"
   ]
  },
  {
   "cell_type": "markdown",
   "metadata": {},
   "source": [
    "## simple_color:"
   ]
  },
  {
   "cell_type": "code",
   "execution_count": 243,
   "metadata": {
    "scrolled": true
   },
   "outputs": [
    {
     "name": "stdout",
     "output_type": "stream",
     "text": [
      "Connecting to the PostgreSQL database...\n",
      "Connected...\n",
      "\n"
     ]
    }
   ],
   "source": [
    "cur = connect(env['basicRulesParameter']['PostgreSqlConnectParameter'])"
   ]
  },
  {
   "cell_type": "code",
   "execution_count": 244,
   "metadata": {},
   "outputs": [],
   "source": [
    "def fetch_simpleColors(cur):\n",
    "    colors = []\n",
    "    sql = \"select simple_color from product where category_path <> 'category/materials'\"\n",
    "    cur.execute(sql)\n",
    "    row = cur.fetchone()\n",
    "    while row:\n",
    "        colors.append(row[0])\n",
    "        row = cur.fetchone()\n",
    "    colors = list(map(lambda x : 'Mix' if x == 'Mixed Colors' else x, colors))\n",
    "    colors = list(map(lambda x : 'Mix' if x == 'Mix Colors' else x, colors))\n",
    "    colors = list(map(lambda x : 'Mix' if x == 'Mix Of Colors' else x, colors))\n",
    "    \n",
    "    return colors\n",
    "    \n",
    "    \n",
    "def simpleColor_dict(colors):\n",
    "    simpleColor_dict = {}\n",
    "    uniqId = 0\n",
    "    for color in colors:\n",
    "        if color not in simpleColor_dict.keys() and color != None:\n",
    "            simpleColor_dict[color] = uniqId\n",
    "            uniqId += 1\n",
    "    return simpleColor_dict\n",
    "    \n",
    "    \n",
    "def add_simpleColor(simpleColor, color_dict):\n",
    "    '''\n",
    "        input: \n",
    "            color : The color to transform\n",
    "            color_dict : color-number dictionary\n",
    "        \n",
    "        return:\n",
    "            encoding vector for given color.\n",
    "    '''\n",
    "    uniqKeys = list(color_dict.keys())\n",
    "    encoding_vec = [0 for _ in range(len(uniqKeys))]\n",
    "    encoding_vec[color_dict[simpleColor]] = 1\n",
    "    \n",
    "    return encoding_vec\n",
    "    "
   ]
  },
  {
   "cell_type": "code",
   "execution_count": 245,
   "metadata": {
    "scrolled": false
   },
   "outputs": [],
   "source": [
    "colors = fetch_simpleColors(cur)\n",
    "color_dict = simpleColor_dict(colors)"
   ]
  },
  {
   "cell_type": "code",
   "execution_count": 246,
   "metadata": {
    "scrolled": true
   },
   "outputs": [
    {
     "data": {
      "text/plain": [
       "[0,\n",
       " 0,\n",
       " 0,\n",
       " 0,\n",
       " 1,\n",
       " 0,\n",
       " 0,\n",
       " 0,\n",
       " 0,\n",
       " 0,\n",
       " 0,\n",
       " 0,\n",
       " 0,\n",
       " 0,\n",
       " 0,\n",
       " 0,\n",
       " 0,\n",
       " 0,\n",
       " 0,\n",
       " 0,\n",
       " 0,\n",
       " 0,\n",
       " 0,\n",
       " 0,\n",
       " 0,\n",
       " 0,\n",
       " 0,\n",
       " 0]"
      ]
     },
     "execution_count": 246,
     "metadata": {},
     "output_type": "execute_result"
    }
   ],
   "source": [
    "add_simpleColor('White', color_dict)"
   ]
  },
  {
   "cell_type": "code",
   "execution_count": 247,
   "metadata": {
    "scrolled": false
   },
   "outputs": [
    {
     "data": {
      "text/plain": [
       "['Dark Blue',\n",
       " 'Pink',\n",
       " 'Ebony',\n",
       " 'Orange',\n",
       " 'Pattern',\n",
       " 'Brown',\n",
       " 'Green',\n",
       " 'Sheer',\n",
       " 'Magenta',\n",
       " 'Animal Print',\n",
       " 'White',\n",
       " 'Mixed Colors',\n",
       " 'Grey',\n",
       " 'Yellow',\n",
       " 'Blue',\n",
       " 'Gray',\n",
       " 'Coral',\n",
       " 'Peach',\n",
       " 'Red',\n",
       " 'Mix Colors',\n",
       " 'Ivory',\n",
       " 'Nude',\n",
       " 'Taupe',\n",
       " 'Black',\n",
       " 'Purple',\n",
       " 'Gold',\n",
       " 'Silver',\n",
       " 'Mix Of Colors',\n",
       " 'Violet',\n",
       " 'Dark Green']"
      ]
     },
     "execution_count": 247,
     "metadata": {},
     "output_type": "execute_result"
    }
   ],
   "source": [
    "list(filter(lambda x : x != None, simple_color))"
   ]
  },
  {
   "cell_type": "markdown",
   "metadata": {},
   "source": [
    "## color:"
   ]
  },
  {
   "cell_type": "code",
   "execution_count": 323,
   "metadata": {},
   "outputs": [],
   "source": [
    "def fetch_colors(cur):\n",
    "    colors = []\n",
    "    sql = \"select color from product where category_path <> 'category/materials'\"\n",
    "    cur.execute(sql)\n",
    "    row = cur.fetchone()\n",
    "    while row:\n",
    "        colors.append(row[0].split('/')[0])\n",
    "        row = cur.fetchone()\n",
    "    \n",
    "    return colors"
   ]
  },
  {
   "cell_type": "code",
   "execution_count": 239,
   "metadata": {},
   "outputs": [],
   "source": [
    "colors = []\n",
    "sql = \"select color from product where category_path <> 'category/materials'\"\n",
    "cur.execute(sql)\n",
    "row = cur.fetchone()\n",
    "while row:\n",
    "    colors.append(row[0].split('/')[0])\n",
    "    row = cur.fetchone()"
   ]
  },
  {
   "cell_type": "code",
   "execution_count": 241,
   "metadata": {},
   "outputs": [],
   "source": [
    "def add_brightness(color):\n",
    "    '''\n",
    "        Add brightness feature to the item\n",
    "        input :\n",
    "            color : color of item\n",
    "        output:\n",
    "            brightness encoding category it belongs to.\n",
    "            'Light', 'Dark' or else.\n",
    "            [1,0,0]  [0,0,1]   [0,1,0]\n",
    "    '''\n",
    "    res = [0, 0, 0]\n",
    "    if color == None:\n",
    "        return res\n",
    "    if color.find('Light') != -1:\n",
    "        res[0] = 1\n",
    "    elif color.find('Dark') != -1:\n",
    "        res[2] = 1\n",
    "    else:\n",
    "        res[1] = 1\n",
    "        \n",
    "    return res"
   ]
  },
  {
   "cell_type": "code",
   "execution_count": 242,
   "metadata": {},
   "outputs": [
    {
     "data": {
      "text/plain": [
       "0"
      ]
     },
     "execution_count": 242,
     "metadata": {},
     "output_type": "execute_result"
    }
   ],
   "source": [
    "'Light Green'.find('Light')"
   ]
  },
  {
   "cell_type": "markdown",
   "metadata": {},
   "source": [
    "## Filter brand:"
   ]
  },
  {
   "cell_type": "code",
   "execution_count": 261,
   "metadata": {},
   "outputs": [],
   "source": [
    "brand_dict = dict()\n",
    "uniqId = 0\n",
    "sql = \"select distinct filterbrand from product where category_path <> 'category/materials'\"\n",
    "cur.execute(sql)\n",
    "row = cur.fetchone()\n",
    "while row:\n",
    "    brand_dict[row[0]] = uniqId\n",
    "    row = cur.fetchone()\n",
    "    uniqId += 1"
   ]
  },
  {
   "cell_type": "code",
   "execution_count": 265,
   "metadata": {},
   "outputs": [],
   "source": [
    "def add_filterBrands(filterBrand):\n",
    "    '''\n",
    "        add filter brand feature to data.\n",
    "        input:\n",
    "            filterBrand of data.\n",
    "        \n",
    "        return:\n",
    "            encoding vector for filter brand feature.\n",
    "    '''\n",
    "    brand_dict = {'Black Label': 0, \"Eve by Eve's\": 1, 'Pink Label': 2}\n",
    "    res = [0, 0, 0]\n",
    "    res[brand_dict[filterBrand]] = 1\n",
    "    return res"
   ]
  },
  {
   "cell_type": "code",
   "execution_count": 268,
   "metadata": {
    "scrolled": true
   },
   "outputs": [
    {
     "data": {
      "text/plain": [
       "[0, 0, 1]"
      ]
     },
     "execution_count": 268,
     "metadata": {},
     "output_type": "execute_result"
    }
   ],
   "source": [
    "add_filterBrands('Pink Label')"
   ]
  },
  {
   "cell_type": "markdown",
   "metadata": {},
   "source": [
    "## Filter Style"
   ]
  },
  {
   "cell_type": "code",
   "execution_count": 329,
   "metadata": {},
   "outputs": [],
   "source": [
    "def fetch_filterStyle(cur):\n",
    "    filter_style = {}\n",
    "    uniqId = 0\n",
    "    sql = \"select distinct filterstyle from product where category_path <> 'category/materials' or category_path is null\"\n",
    "    cur.execute(sql)\n",
    "    row = cur.fetchone()\n",
    "    while row:\n",
    "        if row[0] is None or len(row[0]) == 0:\n",
    "            if 'None' not in filter_style.keys():\n",
    "                filter_style['None'] = uniqId\n",
    "                uniqId += 1\n",
    "        else:\n",
    "            styles = row[0].split(',')\n",
    "            styles = [x for s in styles for x in s.split('&')]\n",
    "            for style in styles:\n",
    "                if style.strip() not in filter_style.keys():\n",
    "                    filter_style[style.strip()] = uniqId\n",
    "                    uniqId += 1\n",
    "        row = cur.fetchone()\n",
    "    return filter_style"
   ]
  },
  {
   "cell_type": "code",
   "execution_count": 330,
   "metadata": {},
   "outputs": [],
   "source": [
    "style_dict = fetch_filterStyle(cur)"
   ]
  },
  {
   "cell_type": "code",
   "execution_count": 319,
   "metadata": {},
   "outputs": [],
   "source": [
    "def add_filterStyle(filterStyle, style_dict):\n",
    "    res = [0 for _ in range(len(style_dict))]\n",
    "    styles = filterStyle.split(',')\n",
    "    styles = [x for s in styles for x in s.split('&')]\n",
    "    for style in styles:\n",
    "        if style.strip() in style_dict.keys():\n",
    "            res[style_dict[style.strip()]] = 1\n",
    "        \n",
    "    return res"
   ]
  },
  {
   "cell_type": "markdown",
   "metadata": {},
   "source": [
    "## combo features(price + color + brightness + brand + style)"
   ]
  },
  {
   "cell_type": "code",
   "execution_count": 337,
   "metadata": {},
   "outputs": [],
   "source": [
    "sql = \"select price, color, simple_color, filterbrand, filterstyle from product \\\n",
    "       where category_path <> 'category/materials' or category_path is null\"\n",
    "cur.execute(sql)\n",
    "row = cur.fetchone()\n",
    "\n",
    "priceInterval = price_range(env, cur)\n",
    "simple_colors = fetch_simpleColors(cur)\n",
    "color_dict = simpleColor_dict(simple_colors)\n",
    "style_dict = fetch_filterStyle(cur)\n",
    "\n",
    "while row:\n",
    "    price = float(row[0])\n",
    "    color = row[1]\n",
    "    simple_color = row[2]\n",
    "    brand = row[3]\n",
    "    filterStyle = row[4]\n",
    "    \n",
    "    price_vector = add_price(price, priceInterval)\n",
    "    simpleColor_vector = add_simpleColor(simple_color, color_dict)\n",
    "    brightness_vector = add_brightness(color)\n",
    "    brand_vector = add_filterBrands(brand)\n",
    "    style_vector = add_filterStyle(filterStyle, style_dict)\n",
    "    \n",
    "    \"\"\"print('price_vector : ', price_vector)\n",
    "    print('price : ', price)\n",
    "    print('simpleColor_vector : ', simpleColor_vector)\n",
    "    print('simple_color : ', simple_color)\n",
    "    print('brightness_vector : ', brightness_vector)\n",
    "    print('color : ', color)\n",
    "    print('brand_vector : ', brand_vector)\n",
    "    print('brand : ', brand)\n",
    "    print('style_vector : ', style_vector)\n",
    "    print('filterStyle : ', filterStyle)\"\"\"\n",
    "    \n",
    "    row = cur.fetchone()\n",
    "    \n",
    "    \n",
    "\n",
    "\n"
   ]
  },
  {
   "cell_type": "code",
   "execution_count": 341,
   "metadata": {},
   "outputs": [],
   "source": [
    "class Item :\n",
    "    def __init__(self, env, price, color, simple_color, brand, filterStyle):\n",
    "        self.price = price\n",
    "        self.color = color\n",
    "        self.simple_color = simple_color\n",
    "        self.brand = brand\n",
    "        self.filterStyle = filterStyle\n",
    "        if env['similarityRulesParameter']['usePrice']:\n",
    "            priceInterval = price_range(env, prices)\n",
    "            self.price_vector = add_price(price, priceInterval)\n",
    "        \n",
    "        if env['similarityRulesParameter']['useBrightness']:\n",
    "            self.brightness_vector = add_brightness(color)\n",
    "        \n",
    "        if env['similarityRulesParameter']['useSimpleColor']:\n",
    "            color_dict = simpleColor_dict(simple_color)\n",
    "            self.color_vector =  add_simpleColor(simple_color, color_dict)\n",
    "        \n",
    "        if env['similarityRulesParameter']['useBrand']:\n",
    "            self.brand_vector = add_filterBrands(brand)\n",
    "        \n",
    "        if env['similarityRulesParameter']['useFilterStyle']:\n",
    "            style_dict = fetch_filterStyle(cur)\n",
    "            self.style_vector = add_filterStyle(filterStyle, style_dict)\n",
    "    \n",
    "    def Jacard_similarity(self, vec1, vec2):\n",
    "        if vec1 is None or vec2 is None or len(vec1) != len(vec2):\n",
    "            return 0\n",
    "        return float(sum([i for i in range(len(vec1)) if vec1[i] == vec2[i] and vec1[1] == 1])) / \\\n",
    "               sum([i for i in range(len(vec1)) if vec1[i] == 1 or vec2[1] == 1])\n",
    "    \n",
    "    def Cosint_similarity(self, vec1, vec2):\n",
    "        #todo\n",
    "        pass\n",
    "    \n",
    "    def calculate_similarity(self, vec1, vec2):\n",
    "        #todo\n",
    "        pass\n",
    "        \n",
    "    \n",
    "    def price_similarity(self, item):\n",
    "        return self.calculate_similarity(self.price_vector, item.price_vector)\n",
    "    \n",
    "    def color_similarity(self, item):\n",
    "        return self.calculate_similarity(self.color_vector, item.color_vector)\n",
    "    \n",
    "    def brightness_similarity(self, item):\n",
    "        return self.calculate_similarity(self.brightness_vector, item.brightness_vector)\n",
    "    \n",
    "    def brand_similarity(self, item):\n",
    "        return self.calculate_similarity(self.brand_vector, item.brand_vector)\n",
    "    \n",
    "    def style_similarity(self, item):\n",
    "        return self.calculate_similarity(self.style_vector, item.style_vector)\n",
    "    \n",
    "    \n"
   ]
  },
  {
   "cell_type": "code",
   "execution_count": null,
   "metadata": {},
   "outputs": [],
   "source": [
    "item1 = Item()\n"
   ]
  },
  {
   "cell_type": "code",
   "execution_count": 342,
   "metadata": {},
   "outputs": [
    {
     "data": {
      "text/plain": [
       "{0, 1}"
      ]
     },
     "execution_count": 342,
     "metadata": {},
     "output_type": "execute_result"
    }
   ],
   "source": [
    "set([1,0,1])"
   ]
  },
  {
   "cell_type": "code",
   "execution_count": 343,
   "metadata": {},
   "outputs": [
    {
     "data": {
      "text/plain": [
       "0.5"
      ]
     },
     "execution_count": 343,
     "metadata": {},
     "output_type": "execute_result"
    }
   ],
   "source": []
  },
  {
   "cell_type": "code",
   "execution_count": null,
   "metadata": {},
   "outputs": [],
   "source": []
  }
 ],
 "metadata": {
  "anaconda-cloud": {},
  "kernelspec": {
   "display_name": "py35",
   "language": "python",
   "name": "conda-root-py"
  },
  "language_info": {
   "codemirror_mode": {
    "name": "ipython",
    "version": 3
   },
   "file_extension": ".py",
   "mimetype": "text/x-python",
   "name": "python",
   "nbconvert_exporter": "python",
   "pygments_lexer": "ipython3",
   "version": "3.5.4"
  }
 },
 "nbformat": 4,
 "nbformat_minor": 2
}
